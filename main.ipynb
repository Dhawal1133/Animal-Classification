{
 "cells": [
  {
   "cell_type": "code",
   "execution_count": 2,
   "metadata": {},
   "outputs": [
    {
     "name": "stdout",
     "output_type": "stream",
     "text": [
      "Downloading Animals-10 dataset...\n",
      "Dataset URL: https://www.kaggle.com/datasets/alessiocorrado99/animals10\n",
      "Extracting dataset...\n",
      "Dataset downloaded and extracted successfully.\n"
     ]
    }
   ],
   "source": [
    "import os\n",
    "import zipfile\n",
    "from kaggle.api.kaggle_api_extended import KaggleApi\n",
    "\n",
    "# Authenticatation of Kaggle API\n",
    "api = KaggleApi()\n",
    "api.authenticate()\n",
    "\n",
    "# dataset\n",
    "dataset_path = \"animals10\"\n",
    "if not os.path.exists(dataset_path):\n",
    "    print(\"Downloading Animals-10 dataset...\")\n",
    "    api.dataset_download_files('alessiocorrado99/animals10', path=dataset_path, unzip=False)\n",
    "\n",
    "# Extract the dataset\n",
    "with zipfile.ZipFile(f\"{dataset_path}/animals10.zip\", 'r') as zip_ref:\n",
    "    print(\"Extracting dataset...\")\n",
    "    zip_ref.extractall(dataset_path)\n",
    "\n",
    "print(\"Dataset downloaded and extracted successfully.\")\n"
   ]
  },
  {
   "cell_type": "code",
   "execution_count": 3,
   "metadata": {},
   "outputs": [
    {
     "name": "stdout",
     "output_type": "stream",
     "text": [
      "Dataset organized into training_set and test_set.\n"
     ]
    }
   ],
   "source": [
    "import shutil\n",
    "from sklearn.model_selection import train_test_split\n",
    "import glob\n",
    "\n",
    "\n",
    "original_data_dir = \"animals10/raw-img/\"\n",
    "train_dir = \"dataset/training_set/\"\n",
    "test_dir = \"dataset/test_set/\"\n",
    "\n",
    "# Create directories\n",
    "for category in os.listdir(original_data_dir):\n",
    "    category_path = os.path.join(original_data_dir, category)\n",
    "    if os.path.isdir(category_path):\n",
    "        os.makedirs(os.path.join(train_dir, category), exist_ok=True)\n",
    "        os.makedirs(os.path.join(test_dir, category), exist_ok=True)\n",
    "\n",
    "        # Split into training and test sets\n",
    "        images = glob.glob(f\"{category_path}/*\")\n",
    "        train_images, test_images = train_test_split(images, test_size=0.2, random_state=42)\n",
    "\n",
    "        # Move files\n",
    "        for image in train_images:\n",
    "            shutil.move(image, os.path.join(train_dir, category))\n",
    "        for image in test_images:\n",
    "            shutil.move(image, os.path.join(test_dir, category))\n",
    "\n",
    "print(\"Dataset organized into training_set and test_set.\")\n"
   ]
  },
  {
   "cell_type": "code",
   "execution_count": 7,
   "metadata": {},
   "outputs": [
    {
     "name": "stdout",
     "output_type": "stream",
     "text": [
      "Found 20938 images belonging to 10 classes.\n",
      "Found 5241 images belonging to 10 classes.\n"
     ]
    },
    {
     "name": "stderr",
     "output_type": "stream",
     "text": [
      "C:\\Users\\Dell\\AppData\\Roaming\\Python\\Python312\\site-packages\\keras\\src\\layers\\convolutional\\base_conv.py:107: UserWarning: Do not pass an `input_shape`/`input_dim` argument to a layer. When using Sequential models, prefer using an `Input(shape)` object as the first layer in the model instead.\n",
      "  super().__init__(activity_regularizer=activity_regularizer, **kwargs)\n"
     ]
    },
    {
     "name": "stdout",
     "output_type": "stream",
     "text": [
      "Epoch 1/30\n",
      "\u001b[1m655/655\u001b[0m \u001b[32m━━━━━━━━━━━━━━━━━━━━\u001b[0m\u001b[37m\u001b[0m \u001b[1m214s\u001b[0m 321ms/step - accuracy: 0.2959 - loss: 1.9973 - val_accuracy: 0.4272 - val_loss: 1.7584\n",
      "Epoch 2/30\n",
      "\u001b[1m655/655\u001b[0m \u001b[32m━━━━━━━━━━━━━━━━━━━━\u001b[0m\u001b[37m\u001b[0m \u001b[1m280s\u001b[0m 428ms/step - accuracy: 0.5009 - loss: 1.4735 - val_accuracy: 0.4862 - val_loss: 1.5528\n",
      "Epoch 3/30\n",
      "\u001b[1m655/655\u001b[0m \u001b[32m━━━━━━━━━━━━━━━━━━━━\u001b[0m\u001b[37m\u001b[0m \u001b[1m118s\u001b[0m 180ms/step - accuracy: 0.5667 - loss: 1.2865 - val_accuracy: 0.5415 - val_loss: 1.3144\n",
      "Epoch 4/30\n",
      "\u001b[1m655/655\u001b[0m \u001b[32m━━━━━━━━━━━━━━━━━━━━\u001b[0m\u001b[37m\u001b[0m \u001b[1m162s\u001b[0m 248ms/step - accuracy: 0.6044 - loss: 1.1775 - val_accuracy: 0.5854 - val_loss: 1.2613\n",
      "Epoch 5/30\n",
      "\u001b[1m655/655\u001b[0m \u001b[32m━━━━━━━━━━━━━━━━━━━━\u001b[0m\u001b[37m\u001b[0m \u001b[1m172s\u001b[0m 263ms/step - accuracy: 0.6293 - loss: 1.0936 - val_accuracy: 0.5753 - val_loss: 1.2953\n",
      "Epoch 6/30\n",
      "\u001b[1m655/655\u001b[0m \u001b[32m━━━━━━━━━━━━━━━━━━━━\u001b[0m\u001b[37m\u001b[0m \u001b[1m140s\u001b[0m 168ms/step - accuracy: 0.6578 - loss: 1.0210 - val_accuracy: 0.5980 - val_loss: 1.2106\n",
      "Epoch 7/30\n",
      "\u001b[1m655/655\u001b[0m \u001b[32m━━━━━━━━━━━━━━━━━━━━\u001b[0m\u001b[37m\u001b[0m \u001b[1m109s\u001b[0m 166ms/step - accuracy: 0.6749 - loss: 0.9704 - val_accuracy: 0.6369 - val_loss: 1.0882\n",
      "Epoch 8/30\n",
      "\u001b[1m655/655\u001b[0m \u001b[32m━━━━━━━━━━━━━━━━━━━━\u001b[0m\u001b[37m\u001b[0m \u001b[1m109s\u001b[0m 167ms/step - accuracy: 0.6875 - loss: 0.9251 - val_accuracy: 0.6222 - val_loss: 1.1228\n",
      "Epoch 9/30\n",
      "\u001b[1m655/655\u001b[0m \u001b[32m━━━━━━━━━━━━━━━━━━━━\u001b[0m\u001b[37m\u001b[0m \u001b[1m108s\u001b[0m 165ms/step - accuracy: 0.6967 - loss: 0.8951 - val_accuracy: 0.6255 - val_loss: 1.1103\n",
      "Epoch 10/30\n",
      "\u001b[1m655/655\u001b[0m \u001b[32m━━━━━━━━━━━━━━━━━━━━\u001b[0m\u001b[37m\u001b[0m \u001b[1m107s\u001b[0m 164ms/step - accuracy: 0.7115 - loss: 0.8555 - val_accuracy: 0.5919 - val_loss: 1.2733\n",
      "Epoch 11/30\n",
      "\u001b[1m655/655\u001b[0m \u001b[32m━━━━━━━━━━━━━━━━━━━━\u001b[0m\u001b[37m\u001b[0m \u001b[1m109s\u001b[0m 166ms/step - accuracy: 0.7253 - loss: 0.8139 - val_accuracy: 0.6060 - val_loss: 1.2405\n",
      "Epoch 12/30\n",
      "\u001b[1m655/655\u001b[0m \u001b[32m━━━━━━━━━━━━━━━━━━━━\u001b[0m\u001b[37m\u001b[0m \u001b[1m108s\u001b[0m 164ms/step - accuracy: 0.7325 - loss: 0.7912 - val_accuracy: 0.6417 - val_loss: 1.0644\n",
      "Epoch 13/30\n",
      "\u001b[1m655/655\u001b[0m \u001b[32m━━━━━━━━━━━━━━━━━━━━\u001b[0m\u001b[37m\u001b[0m \u001b[1m108s\u001b[0m 165ms/step - accuracy: 0.7435 - loss: 0.7664 - val_accuracy: 0.6289 - val_loss: 1.1562\n",
      "Epoch 14/30\n",
      "\u001b[1m655/655\u001b[0m \u001b[32m━━━━━━━━━━━━━━━━━━━━\u001b[0m\u001b[37m\u001b[0m \u001b[1m121s\u001b[0m 184ms/step - accuracy: 0.7495 - loss: 0.7327 - val_accuracy: 0.6520 - val_loss: 1.0913\n",
      "Epoch 15/30\n",
      "\u001b[1m655/655\u001b[0m \u001b[32m━━━━━━━━━━━━━━━━━━━━\u001b[0m\u001b[37m\u001b[0m \u001b[1m135s\u001b[0m 207ms/step - accuracy: 0.7638 - loss: 0.7072 - val_accuracy: 0.6270 - val_loss: 1.2500\n",
      "Epoch 16/30\n",
      "\u001b[1m655/655\u001b[0m \u001b[32m━━━━━━━━━━━━━━━━━━━━\u001b[0m\u001b[37m\u001b[0m \u001b[1m156s\u001b[0m 238ms/step - accuracy: 0.7686 - loss: 0.6910 - val_accuracy: 0.6111 - val_loss: 1.2666\n",
      "Epoch 17/30\n",
      "\u001b[1m655/655\u001b[0m \u001b[32m━━━━━━━━━━━━━━━━━━━━\u001b[0m\u001b[37m\u001b[0m \u001b[1m169s\u001b[0m 258ms/step - accuracy: 0.7750 - loss: 0.6624 - val_accuracy: 0.6027 - val_loss: 1.3325\n",
      "Epoch 18/30\n",
      "\u001b[1m655/655\u001b[0m \u001b[32m━━━━━━━━━━━━━━━━━━━━\u001b[0m\u001b[37m\u001b[0m \u001b[1m188s\u001b[0m 286ms/step - accuracy: 0.7790 - loss: 0.6500 - val_accuracy: 0.6583 - val_loss: 1.1394\n",
      "Epoch 19/30\n",
      "\u001b[1m655/655\u001b[0m \u001b[32m━━━━━━━━━━━━━━━━━━━━\u001b[0m\u001b[37m\u001b[0m \u001b[1m167s\u001b[0m 254ms/step - accuracy: 0.7853 - loss: 0.6396 - val_accuracy: 0.6741 - val_loss: 1.0789\n",
      "Epoch 20/30\n",
      "\u001b[1m655/655\u001b[0m \u001b[32m━━━━━━━━━━━━━━━━━━━━\u001b[0m\u001b[37m\u001b[0m \u001b[1m144s\u001b[0m 220ms/step - accuracy: 0.7925 - loss: 0.6056 - val_accuracy: 0.6325 - val_loss: 1.2335\n",
      "Epoch 21/30\n",
      "\u001b[1m655/655\u001b[0m \u001b[32m━━━━━━━━━━━━━━━━━━━━\u001b[0m\u001b[37m\u001b[0m \u001b[1m101s\u001b[0m 155ms/step - accuracy: 0.8046 - loss: 0.5903 - val_accuracy: 0.6482 - val_loss: 1.2706\n",
      "Epoch 22/30\n",
      "\u001b[1m655/655\u001b[0m \u001b[32m━━━━━━━━━━━━━━━━━━━━\u001b[0m\u001b[37m\u001b[0m \u001b[1m102s\u001b[0m 156ms/step - accuracy: 0.8048 - loss: 0.5768 - val_accuracy: 0.6338 - val_loss: 1.2377\n",
      "Epoch 23/30\n",
      "\u001b[1m655/655\u001b[0m \u001b[32m━━━━━━━━━━━━━━━━━━━━\u001b[0m\u001b[37m\u001b[0m \u001b[1m103s\u001b[0m 157ms/step - accuracy: 0.8159 - loss: 0.5393 - val_accuracy: 0.6443 - val_loss: 1.2356\n",
      "Epoch 24/30\n",
      "\u001b[1m655/655\u001b[0m \u001b[32m━━━━━━━━━━━━━━━━━━━━\u001b[0m\u001b[37m\u001b[0m \u001b[1m104s\u001b[0m 159ms/step - accuracy: 0.8132 - loss: 0.5380 - val_accuracy: 0.6369 - val_loss: 1.3068\n",
      "Epoch 25/30\n",
      "\u001b[1m655/655\u001b[0m \u001b[32m━━━━━━━━━━━━━━━━━━━━\u001b[0m\u001b[37m\u001b[0m \u001b[1m104s\u001b[0m 158ms/step - accuracy: 0.8211 - loss: 0.5211 - val_accuracy: 0.6615 - val_loss: 1.2008\n",
      "Epoch 26/30\n",
      "\u001b[1m655/655\u001b[0m \u001b[32m━━━━━━━━━━━━━━━━━━━━\u001b[0m\u001b[37m\u001b[0m \u001b[1m107s\u001b[0m 163ms/step - accuracy: 0.8293 - loss: 0.4980 - val_accuracy: 0.6377 - val_loss: 1.3437\n",
      "Epoch 27/30\n",
      "\u001b[1m655/655\u001b[0m \u001b[32m━━━━━━━━━━━━━━━━━━━━\u001b[0m\u001b[37m\u001b[0m \u001b[1m121s\u001b[0m 184ms/step - accuracy: 0.8225 - loss: 0.5132 - val_accuracy: 0.6537 - val_loss: 1.3050\n",
      "Epoch 28/30\n",
      "\u001b[1m655/655\u001b[0m \u001b[32m━━━━━━━━━━━━━━━━━━━━\u001b[0m\u001b[37m\u001b[0m \u001b[1m144s\u001b[0m 220ms/step - accuracy: 0.8325 - loss: 0.4847 - val_accuracy: 0.6592 - val_loss: 1.2496\n",
      "Epoch 29/30\n",
      "\u001b[1m655/655\u001b[0m \u001b[32m━━━━━━━━━━━━━━━━━━━━\u001b[0m\u001b[37m\u001b[0m \u001b[1m109s\u001b[0m 166ms/step - accuracy: 0.8379 - loss: 0.4881 - val_accuracy: 0.6594 - val_loss: 1.2558\n",
      "Epoch 30/30\n",
      "\u001b[1m655/655\u001b[0m \u001b[32m━━━━━━━━━━━━━━━━━━━━\u001b[0m\u001b[37m\u001b[0m \u001b[1m104s\u001b[0m 159ms/step - accuracy: 0.8400 - loss: 0.4630 - val_accuracy: 0.6356 - val_loss: 1.4161\n"
     ]
    },
    {
     "name": "stderr",
     "output_type": "stream",
     "text": [
      "WARNING:absl:You are saving your model as an HDF5 file via `model.save()` or `keras.saving.save_model(model)`. This file format is considered legacy. We recommend using instead the native Keras format, e.g. `model.save('my_model.keras')` or `keras.saving.save_model(model, 'my_model.keras')`. \n"
     ]
    }
   ],
   "source": [
    "import tensorflow as tf\n",
    "from tensorflow.keras.preprocessing.image import ImageDataGenerator\n",
    "\n",
    "# Part 1 - Data Preprocessing\n",
    "\n",
    "# Preprocess training set\n",
    "train_datagen = ImageDataGenerator(\n",
    "    rescale=1./255,  # Scale images to into 0 to 1 range\n",
    "    shear_range=0.2,\n",
    "    zoom_range=0.2,\n",
    "    horizontal_flip=True\n",
    ")\n",
    "train_generator = train_datagen.flow_from_directory(\n",
    "    'dataset/training_set',\n",
    "    target_size=(64, 64),\n",
    "    batch_size=32,\n",
    "    class_mode='categorical'  # Multi-class classification\n",
    ")\n",
    "\n",
    "# Preprocess test set\n",
    "test_datagen = ImageDataGenerator(rescale=1./255)\n",
    "test_generator = test_datagen.flow_from_directory(\n",
    "    'dataset/test_set',\n",
    "    target_size=(64, 64),\n",
    "    batch_size=32,\n",
    "    class_mode='categorical'\n",
    ")\n",
    "\n",
    "# Part 2 - Build CNN\n",
    "cnn = tf.keras.models.Sequential()\n",
    "\n",
    "# 1st Convolution + Pooling\n",
    "cnn.add(tf.keras.layers.Conv2D(filters=32, kernel_size=3, activation='relu', input_shape=[64, 64, 3]))\n",
    "cnn.add(tf.keras.layers.MaxPooling2D(pool_size=2, strides=2))\n",
    "\n",
    "# 2nd Convolution + Pooling\n",
    "cnn.add(tf.keras.layers.Conv2D(filters=64, kernel_size=3, activation='relu'))\n",
    "cnn.add(tf.keras.layers.MaxPooling2D(pool_size=2, strides=2))\n",
    "\n",
    "# Flatten\n",
    "cnn.add(tf.keras.layers.Flatten())\n",
    "\n",
    "# Fully Connected Layers\n",
    "cnn.add(tf.keras.layers.Dense(units=128, activation='relu'))  # Hidden layer\n",
    "cnn.add(tf.keras.layers.Dense(units=len(train_generator.class_indices), activation='softmax'))  # Output layer\n",
    "\n",
    "# Compile the model\n",
    "cnn.compile(optimizer='adam', loss='categorical_crossentropy', metrics=['accuracy'])\n",
    "\n",
    "# Train the CNN\n",
    "cnn.fit(x=train_generator, validation_data=test_generator, epochs=30)\n",
    "\n",
    "# Save the model after training\n",
    "cnn.save('trained_model.h5')\n",
    "\n",
    "\n"
   ]
  },
  {
   "cell_type": "code",
   "execution_count": 8,
   "metadata": {},
   "outputs": [
    {
     "name": "stdout",
     "output_type": "stream",
     "text": [
      "Dataset structure saved to 'dataset_structure.json'\n"
     ]
    }
   ],
   "source": [
    "import json\n",
    "\n",
    "# Assuming train_generator has been defined in the code and includes class indices\n",
    "class_indices = train_generator.class_indices\n",
    "\n",
    "# Reverse the mapping to get class labels\n",
    "class_labels = {v: k for k, v in class_indices.items()}\n",
    "\n",
    "# Save the class labels to a JSON file\n",
    "with open('dataset_structure.json', 'w') as f:\n",
    "    json.dump(class_labels, f)\n",
    "\n",
    "print(\"Dataset structure saved to 'dataset_structure.json'\")\n"
   ]
  },
  {
   "cell_type": "code",
   "execution_count": 10,
   "metadata": {},
   "outputs": [
    {
     "name": "stderr",
     "output_type": "stream",
     "text": [
      "WARNING:absl:Compiled the loaded model, but the compiled metrics have yet to be built. `model.compile_metrics` will be empty until you train or evaluate the model.\n"
     ]
    },
    {
     "name": "stdout",
     "output_type": "stream",
     "text": [
      "\u001b[1m1/1\u001b[0m \u001b[32m━━━━━━━━━━━━━━━━━━━━\u001b[0m\u001b[37m\u001b[0m \u001b[1m0s\u001b[0m 103ms/step\n",
      "Predicted Class: cavallo\n"
     ]
    }
   ],
   "source": [
    "import numpy as np\n",
    "from tensorflow.keras.preprocessing import image\n",
    "from tensorflow.keras.models import load_model\n",
    "import json\n",
    "\n",
    "# Load the saved model\n",
    "cnn = load_model('trained_model.h5')\n",
    "\n",
    "# Load the class labels (class_names) from the saved JSON file\n",
    "with open('dataset_structure.json', 'r') as f:\n",
    "    class_names = json.load(f)\n",
    "\n",
    "# Check the number of classes in class_names\n",
    "'''print(f\"Number of classes in class_names: {len(class_names)}\")\n",
    "print(\"Class names:\", class_names)  # Print the class names for debugging'''\n",
    "\n",
    "# Ensure the predicted class index is within bounds\n",
    "if len(class_names) < 10:\n",
    "    print(\"Warning: class_names list has fewer than 10 items. Check your dataset_structure.json.\")\n",
    "\n",
    "# Load and preprocess a single image for prediction\n",
    "test_image = image.load_img(r'D:/animal classification/test1.jpg', target_size=(64, 64))\n",
    "test_image = image.img_to_array(test_image)\n",
    "test_image = np.expand_dims(test_image, axis=0)  # Add batch dimension\n",
    "\n",
    "# Make prediction\n",
    "result = cnn.predict(test_image)\n",
    "\n",
    "# Check the shape of the result\n",
    "#print(\"Prediction result:\", result)\n",
    "\n",
    "# Get the index of the predicted class\n",
    "predicted_class = np.argmax(result)\n",
    "\n",
    "# Verify predicted_class value\n",
    "#print(f\"Predicted class index: {predicted_class}\")\n",
    "\n",
    "# Ensure the predicted index is within the valid range\n",
    "if str(predicted_class) in class_names:\n",
    "    prediction = class_names[str(predicted_class)]  # Use the class index as a string key\n",
    "    print(f\"Predicted Class: {prediction}\")\n",
    "else:\n",
    "    print(\"Error: Predicted class index is out of range!\")\n"
   ]
  },
  {
   "cell_type": "code",
   "execution_count": 11,
   "metadata": {},
   "outputs": [],
   "source": [
    "import numpy as np\n",
    "from sklearn.metrics import classification_report, confusion_matrix, accuracy_score\n",
    "from tensorflow.keras.preprocessing.image import ImageDataGenerator\n",
    "\n",
    "def load_test_data(test_set):\n",
    "    X_test, y_test = [], []\n",
    "    for images, labels in test_set:  # Assuming `test_set` is a generator\n",
    "        X_test.extend(images)\n",
    "        y_test.extend(labels)\n",
    "    return np.array(X_test), np.array(y_test)\n",
    "\n",
    "def evaluate_model(model, test_set):\n",
    "    # Load test data\n",
    "    print(\"Loading test data...\")\n",
    "    X_test, y_test = load_test_data(test_set)\n",
    "    print(f\"Loaded test data: {X_test.shape} images, {y_test.shape} labels\")\n",
    "\n",
    "    # Normalize if not already done by generator\n",
    "    X_test = X_test / 255.0 if np.max(X_test) > 1 else X_test\n",
    "\n",
    "    # Convert one-hot encoded labels to class indices\n",
    "    y_test_classes = np.argmax(y_test, axis=1)\n",
    "\n",
    "    # Get model predictions\n",
    "    print(\"Running predictions...\")\n",
    "    y_pred = model.predict(X_test)\n",
    "    y_pred_classes = np.argmax(y_pred, axis=1)\n",
    "\n",
    "    # Confusion Matrix\n",
    "    cm = confusion_matrix(y_test_classes, y_pred_classes)\n",
    "    print(\"Confusion Matrix:\")\n",
    "    print(cm)\n",
    "\n",
    "    # Classification Report\n",
    "    print(\"\\nClassification Report:\")\n",
    "    print(classification_report(y_test_classes, y_pred_classes))\n",
    "\n",
    "    # Accuracy Score\n",
    "    accuracy = accuracy_score(y_test_classes, y_pred_classes)\n",
    "    print(f\"\\nAccuracy Score: {accuracy * 100:.2f}%\")\n"
   ]
  },
  {
   "cell_type": "code",
   "execution_count": 12,
   "metadata": {},
   "outputs": [
    {
     "name": "stderr",
     "output_type": "stream",
     "text": [
      "WARNING:absl:Compiled the loaded model, but the compiled metrics have yet to be built. `model.compile_metrics` will be empty until you train or evaluate the model.\n"
     ]
    }
   ],
   "source": [
    "from tensorflow.keras.models import load_model\n",
    "model = load_model(r'D:/animal classification/trained_model.h5')\n"
   ]
  },
  {
   "cell_type": "code",
   "execution_count": 13,
   "metadata": {},
   "outputs": [
    {
     "name": "stdout",
     "output_type": "stream",
     "text": [
      "Found 5241 images belonging to 10 classes.\n"
     ]
    }
   ],
   "source": [
    "test_datagen = ImageDataGenerator(rescale=1.0/255)\n",
    "test_set = test_datagen.flow_from_directory(\n",
    "    r'D:/animal classification/dataset/test_set',\n",
    "    target_size=(64, 64),\n",
    "    batch_size=32,\n",
    "    class_mode='categorical',\n",
    "    shuffle=False\n",
    ")\n"
   ]
  },
  {
   "cell_type": "code",
   "execution_count": 14,
   "metadata": {},
   "outputs": [
    {
     "name": "stdout",
     "output_type": "stream",
     "text": [
      "\u001b[1m164/164\u001b[0m \u001b[32m━━━━━━━━━━━━━━━━━━━━\u001b[0m\u001b[37m\u001b[0m \u001b[1m12s\u001b[0m 68ms/step - accuracy: 0.6014 - loss: 1.4783\n",
      "Test Loss: 1.4161070585250854\n",
      "Test Accuracy: 63.56%\n"
     ]
    }
   ],
   "source": [
    "# Evaluate the model on the test set directly using batches\n",
    "results = cnn.evaluate(test_set, verbose=1)\n",
    "print(f\"Test Loss: {results[0]}\")\n",
    "print(f\"Test Accuracy: {results[1] * 100:.2f}%\")\n"
   ]
  }
 ],
 "metadata": {
  "kernelspec": {
   "display_name": "Python 3",
   "language": "python",
   "name": "python3"
  },
  "language_info": {
   "codemirror_mode": {
    "name": "ipython",
    "version": 3
   },
   "file_extension": ".py",
   "mimetype": "text/x-python",
   "name": "python",
   "nbconvert_exporter": "python",
   "pygments_lexer": "ipython3",
   "version": "3.12.7"
  }
 },
 "nbformat": 4,
 "nbformat_minor": 2
}
